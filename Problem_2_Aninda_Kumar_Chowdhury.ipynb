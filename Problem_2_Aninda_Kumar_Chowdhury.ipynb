{
  "nbformat": 4,
  "nbformat_minor": 0,
  "metadata": {
    "colab": {
      "provenance": []
    },
    "kernelspec": {
      "name": "python3",
      "display_name": "Python 3"
    },
    "language_info": {
      "name": "python"
    }
  },
  "cells": [
    {
      "cell_type": "code",
      "execution_count": 1,
      "metadata": {
        "colab": {
          "base_uri": "https://localhost:8080/"
        },
        "id": "JAaJQRk8-OxO",
        "outputId": "93635599-441c-4cc1-9301-b7df36d3082a"
      },
      "outputs": [
        {
          "output_type": "stream",
          "name": "stdout",
          "text": [
            "Sensitivity Matrix:\n",
            "[[ 1.71379457e-06 -1.18460307e-06 -2.57004532e-08]\n",
            " [-3.34582820e-07  1.15844681e-07  1.04843727e-06]\n",
            " [ 1.91201335e-07  5.32839925e-08 -1.24976965e-07]]\n"
          ]
        }
      ],
      "source": [
        "import numpy as np\n",
        "\n",
        "def sensitivity_matrix(A, dA):\n",
        "    # Compute the SVD of A\n",
        "    U, E, Vh = np.linalg.svd(A, full_matrices=True)\n",
        "\n",
        "    # Perturb A\n",
        "    Aperturbed = A + dA\n",
        "\n",
        "    # Compute the SVD of the perturbed matrix\n",
        "    Up, Ep, Vhp = np.linalg.svd(Aperturbed, full_matrices=True)\n",
        "\n",
        "    # Calculate the perturbations in U, E, and Vh\n",
        "    dU = Up - U\n",
        "    dE = np.diag(Ep - E)\n",
        "    dVh = Vhp - Vh\n",
        "\n",
        "    # Compute the sensitivity matrix\n",
        "    sensitivity_matrix = np.dot(Vh.T, dU) + dE + np.dot(dVh.T, U)\n",
        "\n",
        "    return sensitivity_matrix\n",
        "\n",
        "# Create a random square matrix A\n",
        "A = np.random.rand(3, 3)\n",
        "\n",
        "# Perturbation matrix dA\n",
        "dA = 1e-6 * np.random.rand(3, 3)\n",
        "\n",
        "# Compute the sensitivity matrix\n",
        "sensitivity_matrix_result = sensitivity_matrix(A, dA)\n",
        "\n",
        "print(\"Sensitivity Matrix:\")\n",
        "print(sensitivity_matrix_result)"
      ]
    }
  ]
}